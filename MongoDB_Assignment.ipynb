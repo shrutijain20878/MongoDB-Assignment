{
  "nbformat": 4,
  "nbformat_minor": 0,
  "metadata": {
    "colab": {
      "provenance": []
    },
    "kernelspec": {
      "name": "python3",
      "display_name": "Python 3"
    },
    "language_info": {
      "name": "python"
    }
  },
  "cells": [
    {
      "cell_type": "code",
      "execution_count": null,
      "metadata": {
        "id": "N59LNWUoARrw"
      },
      "outputs": [],
      "source": []
    },
    {
      "cell_type": "markdown",
      "source": [
        "# MongoDB Assignment- Theoretical"
      ],
      "metadata": {
        "id": "gpiecB6uAai6"
      }
    },
    {
      "cell_type": "markdown",
      "source": [
        "1. **What are the key differences between SQL and NoSQL databases?**\n",
        "\n",
        "    SQL databases are relational and use structured schemas with tables, rows, and columns to store data. They rely on Structured Query Language (SQL) for defining and manipulating data and are ideal for applications requiring complex queries, strict consistency, and well-defined relationships—such as banking or enterprise systems.\n",
        "\n",
        "    NoSQL databases are non-relational and store data in flexible formats like key-value pairs, documents, or graphs. They are designed for scalability, speed, and handling unstructured or semi-structured data, making them suitable for real-time analytics, content management, and applications with rapidly changing data like social media or IoT platforms."
      ],
      "metadata": {
        "id": "4wcBQ8wxAj0m"
      }
    },
    {
      "cell_type": "markdown",
      "source": [
        "2. **What makes MongoDB a good choice for modern applications?**\n",
        "\n",
        "    MongoDB is a great choice for modern applications due to its flexible document-based model, which allows easy handling of dynamic and unstructured data. It supports high scalability, real-time performance, and built-in features like replication and sharding, making it ideal for fast-changing, large-scale applications such as mobile apps, IoT, and real-time analytics."
      ],
      "metadata": {
        "id": "fTB8yKbFBKCs"
      }
    },
    {
      "cell_type": "markdown",
      "source": [
        "3. **Explain the concept of collections in MongoDB?**\n",
        "\n",
        "    In MongoDB, a collection is a group of documents, similar to a table in relational databases. Each document within a collection is a JSON-like object with dynamic fields, meaning documents in the same collection can have different structures. Collections do not require a fixed schema, making them flexible and ideal for handling varied or evolving data formats.\n"
      ],
      "metadata": {
        "id": "0vpDiTcSBc50"
      }
    },
    {
      "cell_type": "markdown",
      "source": [
        "4. **How does MongoDB ensure high availability using replication?**\n",
        "\n",
        "    MongoDB ensures high availability through a feature called replication, where data is copied across multiple servers using a replica set. A replica set includes a primary node that handles all writes and multiple secondary nodes that maintain copies of the data. If the primary node fails, one of the secondaries is automatically elected as the new primary, ensuring the database remains available without manual intervention."
      ],
      "metadata": {
        "id": "WrrfS5dWBp8Q"
      }
    },
    {
      "cell_type": "markdown",
      "source": [
        "5. **What are the main benefits of MongoDB Atlas?**\n",
        "\n",
        "    MongoDB Atlas is a fully managed cloud database that offers auto-scaling, high availability, built-in security, and real-time performance monitoring. It supports multi-cloud deployment and reduces the burden of managing infrastructure, making it ideal for building scalable and secure modern applications."
      ],
      "metadata": {
        "id": "wdMCEe21BzXQ"
      }
    },
    {
      "cell_type": "markdown",
      "source": [
        "6. **What is the role of indexes in MongoDB, and how do they improve performance?**\n",
        "\n",
        "    In MongoDB, indexes play a key role in improving query performance by allowing the database to find and retrieve data faster. Without indexes, MongoDB must scan every document in a collection to find matches, which is slow for large datasets. Indexes help by creating a structured path to the data, reducing the amount of data scanned, and speeding up operations like search, sort, and filter."
      ],
      "metadata": {
        "id": "18llYYVTCC0d"
      }
    },
    {
      "cell_type": "markdown",
      "source": [
        "7. **Describe the stages of the MongoDB aggregation pipeline?**\n",
        "\n",
        "  The MongoDB aggregation pipeline processes data through a sequence of stages, each transforming the documents as they pass through. Key stages include:\n",
        "\n",
        "   $match – Filters documents based on specified conditions (like SQL WHERE).\n",
        "\n",
        "   $group – Groups documents by a field and performs operations like sum, average, or count.\n",
        "\n",
        "   $project – Reshapes documents by including, excluding, or computing new fields.\n",
        "\n",
        "   $sort – Sorts documents based on one or more fields.\n",
        "\n",
        "   $limit – Limits the number of documents passed to the next stage.\n",
        "\n",
        "  $skip – Skips a specified number of documents, useful for pagination."
      ],
      "metadata": {
        "id": "hiT68nyiCNXh"
      }
    },
    {
      "cell_type": "markdown",
      "source": [
        "8. **What is sharding in MongoDB? How does it differ from replication?**\n",
        "\n",
        "    Sharding in MongoDB is used for scaling by distributing data across multiple servers, allowing the database to handle large volumes and high traffic. It improves performance by splitting the data set. In contrast, replication ensures high availability by copying the same data across multiple servers, providing backup and failover support."
      ],
      "metadata": {
        "id": "vf1c43KQCp5D"
      }
    },
    {
      "cell_type": "markdown",
      "source": [
        "9. **What is PyMongo, and why is it used?**\n",
        "\n",
        "    PyMongo is the official Python driver for MongoDB. It allows Python applications to connect to, query, and manipulate MongoDB databases. PyMongo is used because it provides an easy and efficient way to interact with MongoDB from Python code, supporting operations like CRUD (Create, Read, Update, Delete), aggregation, indexing, and more."
      ],
      "metadata": {
        "id": "FrbQ2RLnC7JR"
      }
    },
    {
      "cell_type": "markdown",
      "source": [
        "10. **What are the ACID properties in the context of MongoDB transactions?**\n",
        "\n",
        "    In MongoDB, ACID properties ensure that transactions are reliable and consistent. Here's what each property means:\n",
        "\n",
        "    Atomicity: All operations in a transaction are completed or none at all.\n",
        "\n",
        "    Consistency: The database moves from one valid state to another, maintaining data integrity.\n",
        "\n",
        "    Isolation: Transactions are isolated from each other until completed, preventing conflicts.\n",
        "\n",
        "    Durability: Once a transaction is committed, the changes are permanent, even after a crash.\n",
        "\n",
        "    MongoDB supports ACID transactions across multiple documents and collections starting from version 4.0."
      ],
      "metadata": {
        "id": "xyUtVuiWDGON"
      }
    },
    {
      "cell_type": "markdown",
      "source": [
        "11. **What is the purpose of MongoDB’s explain() function?**\n",
        "\n",
        "    The purpose of MongoDB’s explain() function is to analyze and understand how a query is executed. It provides detailed information about the query plan, including whether indexes are used, how many documents are scanned, and the execution time. This helps developers optimize queries and improve performance by identifying inefficiencies."
      ],
      "metadata": {
        "id": "kjjxOiSRDbL2"
      }
    },
    {
      "cell_type": "markdown",
      "source": [
        "12. **How does MongoDB handle schema validation?**\n",
        "\n",
        "    MongoDB handles schema validation using JSON Schema rules defined at the collection level. When creating or updating a collection, you can specify validation rules that enforce the structure, data types, and required fields of documents. This ensures that only documents matching the defined schema are allowed, helping maintain data consistency and integrity while still allowing flexibility when needed."
      ],
      "metadata": {
        "id": "9XZI-PXrDmLp"
      }
    },
    {
      "cell_type": "markdown",
      "source": [
        "13. **What is the difference between a primary and a secondary node in a replica set?**\n",
        "\n",
        "    In a MongoDB replica set, the primary node is the main server that handles all write and read operations by default, while secondary nodes maintain copies of the primary’s data by continuously replicating it. If the primary fails, one of the secondaries is automatically elected as the new primary, ensuring high availability. Secondary nodes can also be used for read operations if configured for read scaling."
      ],
      "metadata": {
        "id": "zXW9S5UoDxoJ"
      }
    },
    {
      "cell_type": "markdown",
      "source": [
        "14. **What security mechanisms does MongoDB provide for data protection?**\n",
        "\n",
        "    MongoDB provides several security mechanisms to protect data:\n",
        "\n",
        "    Authentication – Ensures only authorized users can access the database.\n",
        "\n",
        "    Authorization – Uses role-based access control (RBAC) to limit user actions.\n",
        "\n",
        "    Encryption – Supports encryption at rest and in transit (TLS/SSL) to secure data.\n",
        "\n",
        "    Auditing – Tracks database activity for compliance and monitoring.\n",
        "\n",
        "    IP Whitelisting & Network Isolation – Controls which clients can connect to the database.\n",
        "\n",
        "    These features work together to ensure data confidentiality, integrity, and access control."
      ],
      "metadata": {
        "id": "f2yL56jsD7eQ"
      }
    },
    {
      "cell_type": "markdown",
      "source": [
        "15. **Explain the concept of embedded documents and when they should be used?**\n",
        "\n",
        "    Embedded documents in MongoDB are documents stored within other documents, creating a nested structure. They allow related data to be kept together in a single document, which can improve read performance and make data more self-contained.\n",
        "\n",
        "    They should be used when the related data has a one-to-one or one-to-few relationship and is frequently accessed together. For example, storing a user's address or order items inside the user or order document is a good use of embedding. However, for large or growing related data, referencing (using separate documents) is more efficient."
      ],
      "metadata": {
        "id": "5rH0ofKvETBv"
      }
    },
    {
      "cell_type": "markdown",
      "source": [
        "16. **What is the purpose of MongoDB’s $lookup stage in aggregation?**\n",
        "\n",
        "    The purpose of MongoDB’s $lookup stage in aggregation is to perform a left outer join between documents from two collections. It allows you to combine related data, similar to SQL joins, by matching fields in one collection with fields in another. This is useful for retrieving nested or related data in a single query without denormalizing your schema."
      ],
      "metadata": {
        "id": "SuHKaO5oEeIk"
      }
    },
    {
      "cell_type": "markdown",
      "source": [
        "17. **What are some common use cases for MongoDB?**\n",
        "\n",
        "    Some common use cases for MongoDB include:\n",
        "\n",
        "    Content Management Systems (CMS) – Flexible schema is ideal for managing varied content types.\n",
        "\n",
        "    Real-Time Analytics – Fast reads/writes and aggregation make it great for dashboards and data analysis.\n",
        "\n",
        "    Mobile and Web Apps – Easily handles rapidly changing data and high user loads.\n",
        "\n",
        "    Internet of Things (IoT) – Manages large volumes of semi-structured sensor data efficiently.\n",
        "\n",
        "    Catalogs and Inventory – Perfect for e-commerce platforms with diverse product attributes.\n",
        "\n",
        "    Personalization Engines – Stores user profiles and activity data to serve dynamic content."
      ],
      "metadata": {
        "id": "Ukr8kg-gEomV"
      }
    },
    {
      "cell_type": "markdown",
      "source": [
        "18. **What are the advantages of using MongoDB for horizontal scaling?**\n",
        "\n",
        "    The advantages of using MongoDB for horizontal scaling include:\n",
        "\n",
        "    Sharding Support – MongoDB natively supports sharding, allowing data to be distributed across multiple servers for better performance.\n",
        "\n",
        "    Increased Capacity – Easily handles large volumes of data and high traffic by adding more nodes.\n",
        "\n",
        "    Cost-Effective Scaling – You can scale out using commodity hardware instead of expensive high-end servers.\n",
        "\n",
        "    High Availability – Works well with replication for fault tolerance and uptime.\n",
        "\n",
        "    Improved Performance – Distributes query and write load, reducing bottlenecks and improving response times."
      ],
      "metadata": {
        "id": "OEPA2Qf8E5mL"
      }
    },
    {
      "cell_type": "markdown",
      "source": [
        "19. **How do MongoDB transactions differ from SQL transactions?**\n",
        "\n",
        "    MongoDB transactions and SQL transactions both support ACID properties, but they differ in design and usage:\n",
        "\n",
        "    SQL transactions are built-in and widely used, often involving multiple rows and tables in complex queries, with full ACID support by default.\n",
        "\n",
        "    MongoDB transactions were introduced later (from version 4.0) and are typically used for multi-document operations. MongoDB is designed for high performance with single-document atomicity, so multi-document transactions are used only when necessary."
      ],
      "metadata": {
        "id": "BpIN_7CkFK3X"
      }
    },
    {
      "cell_type": "markdown",
      "source": [
        "20. **What are the main differences between capped collections and regular collections?**\n",
        "\n",
        "    Capped collections in MongoDB have a fixed size and automatically overwrite the oldest data when full, preserving insertion order. They don’t allow deletions or large updates. In contrast, regular collections have no size limit and support full CRUD operations. Capped collections are ideal for logs or real-time data; regular collections suit general-purpose storage."
      ],
      "metadata": {
        "id": "4vm5VtXLFXRI"
      }
    },
    {
      "cell_type": "markdown",
      "source": [
        "21. **What is the purpose of the $match stage in MongoDB’s aggregation pipeline?**\n",
        "\n",
        "    The purpose of the $match stage in MongoDB’s aggregation pipeline is to filter documents based on specified conditions, similar to a WHERE clause in SQL. It narrows down the documents passed to the next stages, improving performance by reducing the amount of data processed in the pipeline."
      ],
      "metadata": {
        "id": "iYQEQRh3FlH5"
      }
    },
    {
      "cell_type": "markdown",
      "source": [
        "22. **How can you secure access to a MongoDB database?**\n",
        "\n",
        "    You can secure access to a MongoDB database using the following methods:\n",
        "\n",
        "    Authentication – Require users to log in with valid credentials.\n",
        "\n",
        "    Authorization – Use role-based access control (RBAC) to limit user actions.\n",
        "\n",
        "    Encryption – Enable encryption for data at rest and in transit (TLS/SSL).\n",
        "\n",
        "    IP Whitelisting – Allow access only from trusted IP addresses.\n",
        "\n",
        "    Firewalls & Network Isolation – Use VPCs and firewalls to restrict unauthorized network access.\n",
        "\n",
        "    Audit Logging – Track and monitor database activity for compliance and security audits."
      ],
      "metadata": {
        "id": "4kVXThkUFupH"
      }
    },
    {
      "cell_type": "markdown",
      "source": [
        "23. **What is MongoDB’s WiredTiger storage engine, and why is it important?**\n",
        "\n",
        "    WiredTiger is MongoDB’s default storage engine, responsible for managing how data is stored, indexed, and retrieved on disk. It is important because it offers high performance, compression, and concurrency control, allowing multiple read and write operations to happen efficiently.\n",
        "\n",
        "    WiredTiger uses document-level locking and supports data compression, which reduces storage space and improves speed, making it ideal for modern, high-throughput applications."
      ],
      "metadata": {
        "id": "Z5ovByotF-pi"
      }
    },
    {
      "cell_type": "markdown",
      "source": [
        "# Practical Questions"
      ],
      "metadata": {
        "id": "E7MTkDdcGKk3"
      }
    },
    {
      "cell_type": "code",
      "source": [
        "# 1. Write a Python script to load the Superstore dataset from a CSV file into MongoDB\n",
        "pip install pymongo pandas\n",
        "\n",
        "import pandas as pd\n",
        "from pymongo import MongoClient\n",
        "\n",
        "csv_file = 'superstore.csv'\n",
        "df = pd.read_csv(csv_file)\n",
        "\n",
        "data = df.to_dict(orient='records')\n",
        "\n",
        "client = MongoClient('mongodb://localhost:27017/')\n",
        "db = client['SuperstoreDB']\n",
        "collection = db['Orders']\n",
        "\n",
        "collection.insert_many(data)\n",
        "\n",
        "print(f\"Inserted {len(data)} records into MongoDB collection 'Orders' in 'SuperstoreDB'\")"
      ],
      "metadata": {
        "id": "wEixhVN3DxJS"
      },
      "execution_count": null,
      "outputs": []
    },
    {
      "cell_type": "code",
      "source": [
        "# 2. Retrieve and print all documents from the Orders collection\n",
        "from pymongo import MongoClient\n",
        "\n",
        "client = MongoClient('mongodb://localhost:27017/')\n",
        "db = client['SuperstoreDB']\n",
        "collection = db['Orders']\n",
        "\n",
        "documents = collection.find()\n",
        "\n",
        "for doc in documents:\n",
        "    print(doc)"
      ],
      "metadata": {
        "id": "jx5vTG10HAEn"
      },
      "execution_count": null,
      "outputs": []
    },
    {
      "cell_type": "code",
      "source": [
        "# 3.Count and display the total number of documents in the Orders collection.\n",
        "from pymongo import MongoClient\n",
        "\n",
        "client = MongoClient('mongodb://localhost:27017/')\n",
        "db = client['SuperstoreDB']\n",
        "collection = db['Orders']\n",
        "\n",
        "total_docs = collection.count_documents({})\n",
        "\n",
        "print(f\"Total number of documents in 'Orders' collection: {total_docs}\")"
      ],
      "metadata": {
        "id": "hp7dj08eHjv9"
      },
      "execution_count": null,
      "outputs": []
    },
    {
      "cell_type": "code",
      "source": [
        "# 4. Write a query to fetch all orders from the \"West\" region\n",
        "from pymongo import MongoClient\n",
        "\n",
        "client = MongoClient('mongodb://localhost:27017/')\n",
        "db = client['SuperstoreDB']\n",
        "collection = db['Orders']\n",
        "\n",
        "west_orders = collection.find({\"Region\": \"West\"})\n",
        "\n",
        "for order in west_orders:\n",
        "    print(order)"
      ],
      "metadata": {
        "id": "8CGckRuUH1sT"
      },
      "execution_count": null,
      "outputs": []
    },
    {
      "cell_type": "code",
      "source": [
        "# 5. Write a query to find orders where Sales is greater than 500\n",
        "from pymongo import MongoClient\n",
        "\n",
        "client = MongoClient('mongodb://localhost:27017/')\n",
        "db = client['SuperstoreDB']\n",
        "collection = db['Orders']\n",
        "\n",
        "high_sales_orders = collection.find({\"Sales\": {\"$gt\": 500}})\n",
        "\n",
        "for order in high_sales_orders:\n",
        "    print(order)"
      ],
      "metadata": {
        "id": "qA38-gvLIREA"
      },
      "execution_count": null,
      "outputs": []
    },
    {
      "cell_type": "code",
      "source": [
        "# 6. Fetch the top 3 orders with the highest Profit.\n",
        "from pymongo import MongoClient\n",
        "\n",
        "client = MongoClient('mongodb://localhost:27017/')\n",
        "db = client['SuperstoreDB']\n",
        "collection = db['Orders']\n",
        "\n",
        "top_profit_orders = collection.find().sort(\"Profit\", -1).limit(3)\n",
        "\n",
        "for order in top_profit_orders:\n",
        "    print(order)"
      ],
      "metadata": {
        "id": "W9oTcnyBIe2Y"
      },
      "execution_count": null,
      "outputs": []
    },
    {
      "cell_type": "code",
      "source": [
        "# 7.  Update all orders with Ship Mode as \"First Class\" to \"Premium Class.\n",
        "\n",
        "from pymongo import MongoClient\n",
        "\n",
        "client = MongoClient('mongodb://localhost:27017/')\n",
        "db = client['SuperstoreDB']\n",
        "collection = db['Orders']\n",
        "\n",
        "result = collection.update_many(\n",
        "    {\"Ship Mode\": \"First Class\"},\n",
        "    {\"$set\": {\"Ship Mode\": \"Premium Class\"}}\n",
        ")\n",
        "\n",
        "print(f\"Modified {result.modified_count} documents.\")\n"
      ],
      "metadata": {
        "id": "WksFzYVcIpHD"
      },
      "execution_count": null,
      "outputs": []
    },
    {
      "cell_type": "code",
      "source": [
        "# 8. Delete all orders where Sales is less than 50.\n",
        "from pymongo import MongoClient\n",
        "\n",
        "client = MongoClient('mongodb://localhost:27017/')\n",
        "db = client['SuperstoreDB']\n",
        "collection = db['Orders']\n",
        "\n",
        "result = collection.delete_many({\"Sales\": {\"$lt\": 50}})\n",
        "\n",
        "print(f\"Deleted {result.deleted_count} documents.\")\n"
      ],
      "metadata": {
        "id": "OR1mEJlVIy8q"
      },
      "execution_count": null,
      "outputs": []
    },
    {
      "cell_type": "code",
      "source": [
        "# 9. Use aggregation to group orders by Region and calculate total sales per region.\n",
        "\n",
        "from pymongo import MongoClient\n",
        "\n",
        "client = MongoClient('mongodb://localhost:27017/')\n",
        "db = client['SuperstoreDB']\n",
        "collection = db['Orders']\n",
        "\n",
        "pipeline = [\n",
        "    {\n",
        "        \"$group\": {\n",
        "            \"_id\": \"$Region\",              # Group by Region\n",
        "            \"total_sales\": {\"$sum\": \"$Sales\"}  # Calculate total Sales per region\n",
        "        }\n",
        "    }\n",
        "]\n",
        "\n",
        "results = collection.aggregate(pipeline)\n",
        "\n",
        "for region in results:\n",
        "    print(f\"Region: {region['_id']}, Total Sales: {region['total_sales']}\")\n"
      ],
      "metadata": {
        "id": "PnaXpiMzI8tP"
      },
      "execution_count": null,
      "outputs": []
    },
    {
      "cell_type": "code",
      "source": [
        "# 10. Fetch all distinct values for Ship Mode from the collection.\n",
        "\n",
        "from pymongo import MongoClient\n",
        "\n",
        "client = MongoClient('mongodb://localhost:27017/')\n",
        "db = client['SuperstoreDB']\n",
        "collection = db['Orders']\n",
        "\n",
        "distinct_ship_modes = collection.distinct(\"Ship Mode\")\n",
        "\n",
        "print(\"Distinct Ship Modes:\")\n",
        "for mode in distinct_ship_modes:\n",
        "    print(\"-\", mode)\n"
      ],
      "metadata": {
        "id": "008UGaoFJJnd"
      },
      "execution_count": null,
      "outputs": []
    },
    {
      "cell_type": "code",
      "source": [
        "# 11. Count the number of orders for each category.\n",
        "from pymongo import MongoClient\n",
        "\n",
        "client = MongoClient(\"mongodb://localhost:27017/\")\n",
        "db = client[\"SuperstoreDB\"]\n",
        "collection = db[\"Orders\"]\n",
        "\n",
        "pipeline = [\n",
        "    {\n",
        "        \"$group\": {\n",
        "            \"_id\": \"$Category\",\n",
        "            \"order_count\": {\"$sum\": 1}\n",
        "        }\n",
        "    }\n",
        "]\n",
        "\n",
        "results = collection.aggregate(pipeline)\n",
        "\n",
        "print(\"Order Count by Category:\")\n",
        "for category in results:\n",
        "    print(f\"{category['_id']}: {category['order_count']}\")\n"
      ],
      "metadata": {
        "id": "gfoURv7kJTym"
      },
      "execution_count": null,
      "outputs": []
    }
  ]
}